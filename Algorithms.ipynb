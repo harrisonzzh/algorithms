{
 "cells": [
  {
   "cell_type": "markdown",
   "metadata": {},
   "source": [
    "# Concepts"
   ]
  },
  {
   "cell_type": "markdown",
   "metadata": {},
   "source": [
    "#### loop invariant\n",
    "1. Initialization: It is true prior to the first iteration of the loop.\n",
    "2. Maintenance: If it is true before an iteration of the loop, it remains true before the\n",
    "next iteration.\n",
    "3. Termination: When the loop terminates, the invariant gives us a useful property that helps show that the algorithm is correct."
   ]
  },
  {
   "cell_type": "markdown",
   "metadata": {},
   "source": [
    "#### Divide-and-conquer\n",
    "1. Divide: the problem into a number of subproblems that are smaller instances of the same problem.\n",
    "2. Conquer: the subproblems by solving them recursively. If the subproblem sizes are small enough, however, just solve the subproblems in a straightforward manner.\n",
    "3. Combine: the solutions to the subproblems into the solution for the original prob- lem."
   ]
  },
  {
   "cell_type": "markdown",
   "metadata": {},
   "source": [
    "# 1. Sorting"
   ]
  },
  {
   "cell_type": "markdown",
   "metadata": {},
   "source": [
    "### Insertion Sort:"
   ]
  },
  {
   "cell_type": "code",
   "execution_count": 7,
   "metadata": {},
   "outputs": [],
   "source": [
    "def insertion_sort(A): # ascending\n",
    "    for i in range(1, len(A)): \n",
    "        # get value at i    \n",
    "        value = A[i] \n",
    "        # insert A[i] to the sorted array\n",
    "        # start to compare with the left one (i-1)\n",
    "        j = i - 1   \n",
    "        # compare with A[j] with value (exit if j < 0)\n",
    "        while value < A[j] and j >= 0: \n",
    "            # move A[j] to right by 1\n",
    "            A[j+1] = A[j] \n",
    "            j -= 1\n",
    "        # if A[j] <= value, insert after it \n",
    "        A[j+1] = value \n",
    "    return A"
   ]
  },
  {
   "cell_type": "code",
   "execution_count": 9,
   "metadata": {},
   "outputs": [
    {
     "name": "stdout",
     "output_type": "stream",
     "text": [
      "[]\n",
      "[1, 2, 3, 4, 5, 6]\n",
      "[1, 3, 3, 4, 4, 5]\n"
     ]
    }
   ],
   "source": [
    "# test\n",
    "print(insertion_sort([]))\n",
    "print(insertion_sort([5, 2, 4, 6, 1, 3]))\n",
    "print(insertion_sort([3, 3, 1, 5, 4, 4]))"
   ]
  },
  {
   "cell_type": "code",
   "execution_count": 10,
   "metadata": {},
   "outputs": [],
   "source": [
    "# decending\n",
    "def insertion_sort_desc(A):\n",
    "    for i in range(1, len(A)):\n",
    "        value = A[i]\n",
    "        j = i - 1\n",
    "        while value > A[j] and j >= 0:\n",
    "            A[j+1] = A[j]\n",
    "            j -= 1\n",
    "        A[j+1] = value\n",
    "    return A"
   ]
  },
  {
   "cell_type": "code",
   "execution_count": 11,
   "metadata": {},
   "outputs": [
    {
     "name": "stdout",
     "output_type": "stream",
     "text": [
      "[]\n",
      "[6, 5, 4, 3, 2, 1]\n",
      "[5, 4, 4, 3, 3, 1]\n"
     ]
    }
   ],
   "source": [
    "# test\n",
    "print(insertion_sort_desc([]))\n",
    "print(insertion_sort_desc([5, 2, 4, 6, 1, 3]))\n",
    "print(insertion_sort_desc([3, 3, 1, 5, 4, 4]))"
   ]
  },
  {
   "cell_type": "markdown",
   "metadata": {},
   "source": [
    "### Merge Sort:"
   ]
  },
  {
   "cell_type": "code",
   "execution_count": 14,
   "metadata": {},
   "outputs": [],
   "source": [
    "# merge two sorted arrays\n",
    "\n",
    "def merge_two_sorted_list(A, p, q, r):\n",
    "    '''\n",
    "    A: Array\n",
    "    first half: A[p:q]\n",
    "    second half: A[q:r]\n",
    "    '''\n",
    "    \n",
    "    # set starting idx\n",
    "    left_idx = p \n",
    "    right_idx = q\n",
    "    \n",
    "    out = []\n",
    "    \n",
    "    # stop if either index reached the last element of the array\n",
    "    while left_idx < q and right_idx < r: \n",
    "        # get corresponding values\n",
    "        left_value = A[left_idx]\n",
    "        right_value = A[right_idx]\n",
    "        # compare\n",
    "        if left_value <= right_value: \n",
    "            # append left_value if left_value is smaller (or equal)\n",
    "            out.append(left_value)\n",
    "            left_idx += 1\n",
    "        else:\n",
    "            # append right_value if right_value is smaller\n",
    "            out.append(right_value)\n",
    "            right_idx += 1\n",
    "            \n",
    "    # append left/right array remained\n",
    "    if left_idx < q:\n",
    "        out.extend(A[left_idx:q])\n",
    "    elif right_idx < r:\n",
    "        out.extend(A[right_idx:r])\n",
    "    \n",
    "    return out"
   ]
  },
  {
   "cell_type": "code",
   "execution_count": 25,
   "metadata": {},
   "outputs": [
    {
     "name": "stdout",
     "output_type": "stream",
     "text": [
      "[1, 2, 3, 8, 9, 10]\n",
      "[1, 2, 3, 8, 9, 9, 10]\n",
      "[1, 2, 3, 9, 10]\n",
      "[1, 2]\n",
      "[1]\n",
      "[]\n"
     ]
    }
   ],
   "source": [
    "# test\n",
    "print(merge_two_sorted_list([1, 3, 8, 2, 9, 10], 0, 3, 6))\n",
    "print(merge_two_sorted_list([1, 3, 8, 9, 2, 9, 10], 0, 4, 7))\n",
    "print(merge_two_sorted_list([1, 3, 2, 9, 10], 0, 2, 5))\n",
    "print(merge_two_sorted_list([1, 2], 0, 1, 2))\n",
    "print(merge_two_sorted_list([1], 0, 1, 1))\n",
    "print(merge_two_sorted_list([0], 0, 0, 0))"
   ]
  },
  {
   "cell_type": "code",
   "execution_count": null,
   "metadata": {},
   "outputs": [],
   "source": []
  }
 ],
 "metadata": {
  "kernelspec": {
   "display_name": "Python 3",
   "language": "python",
   "name": "python3"
  },
  "language_info": {
   "codemirror_mode": {
    "name": "ipython",
    "version": 3
   },
   "file_extension": ".py",
   "mimetype": "text/x-python",
   "name": "python",
   "nbconvert_exporter": "python",
   "pygments_lexer": "ipython3",
   "version": "3.6.5"
  }
 },
 "nbformat": 4,
 "nbformat_minor": 2
}
