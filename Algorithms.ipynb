{
 "cells": [
  {
   "cell_type": "markdown",
   "metadata": {},
   "source": [
    "# Concepts"
   ]
  },
  {
   "cell_type": "markdown",
   "metadata": {},
   "source": [
    "#### loop invariant\n",
    "1. Initialization: It is true prior to the first iteration of the loop.\n",
    "2. Maintenance: If it is true before an iteration of the loop, it remains true before the\n",
    "next iteration.\n",
    "3. Termination: When the loop terminates, the invariant gives us a useful property that helps show that the algorithm is correct."
   ]
  },
  {
   "cell_type": "markdown",
   "metadata": {},
   "source": [
    "#### Divide-and-conquer\n",
    "1. Divide: the problem into a number of subproblems that are smaller instances of the same problem.\n",
    "2. Conquer: the subproblems by solving them recursively. If the subproblem sizes are small enough, however, just solve the subproblems in a straightforward manner.\n",
    "3. Combine: the solutions to the subproblems into the solution for the original problem.\n",
    "\n",
    "*how to compute running time*:\n",
    "1. Divide: constant time $O(1)$\n",
    "2. Conquer: $T(n) = a*T(n/b)$  $a$ is number of sub problems and $n/b$ is the subproblem input size\n",
    "3. Combine: $O(n)$"
   ]
  },
  {
   "cell_type": "markdown",
   "metadata": {},
   "source": [
    "#### Stirling’s approximation\n",
    "$n! = \\sqrt{2\\pi n} (\\frac{n}{e})^n (1 + O({\\frac{1}{n}}))$"
   ]
  },
  {
   "cell_type": "markdown",
   "metadata": {},
   "source": [
    "#### Fibonacci numbers\n",
    "* $F_0 = 0$\n",
    "* $F_1 = 1$\n",
    "* $F_i = F_{i-1} + F_{i-2}$"
   ]
  },
  {
   "cell_type": "code",
   "execution_count": 64,
   "metadata": {},
   "outputs": [],
   "source": [
    "# import packages for testing\n",
    "import numpy as np"
   ]
  },
  {
   "cell_type": "markdown",
   "metadata": {},
   "source": [
    "# 1. Sorting"
   ]
  },
  {
   "cell_type": "markdown",
   "metadata": {},
   "source": [
    "### Bubble Sort:"
   ]
  },
  {
   "cell_type": "code",
   "execution_count": 206,
   "metadata": {},
   "outputs": [],
   "source": [
    "def bubble_sort(A):\n",
    "    n = len(A)\n",
    "    for i in range(n):\n",
    "        for j in range(n-1, i-1, -1):\n",
    "            # move the smallest in [i, n] to i\n",
    "            current_item = A[j]\n",
    "            left_item = A[j-1]\n",
    "            # if A[j] < A[j-1], switch\n",
    "            if current_item < left_item:\n",
    "                A[j-1] = current_item\n",
    "                A[j] = left_item"
   ]
  },
  {
   "cell_type": "code",
   "execution_count": 207,
   "metadata": {},
   "outputs": [
    {
     "name": "stdout",
     "output_type": "stream",
     "text": [
      "input: [7, 2, 4, 10, 6, 2, 1]\n",
      "output: [1, 2, 2, 4, 6, 7, 10]\n",
      "input: [1, 1, 3, 2, 2, 1, -10]\n",
      "output: [-10, 1, 1, 1, 2, 2, 3]\n",
      "input: [1, 1, 1, 1, 1, 1, 1]\n",
      "output: [1, 1, 1, 1, 1, 1, 1]\n",
      "input: [1]\n",
      "output: [1]\n",
      "input: []\n",
      "output: []\n"
     ]
    }
   ],
   "source": [
    "# test\n",
    "inputs = [\n",
    "    [7, 2, 4, 10, 6, 2, 1],\n",
    "    [1, 1, 3, 2, 2, 1, -10],\n",
    "    [1, 1, 1, 1, 1, 1, 1],\n",
    "    [1],\n",
    "    []\n",
    "]\n",
    "\n",
    "for A in inputs:\n",
    "    print('input: {}'.format(A))\n",
    "    bubble_sort(A)\n",
    "    print('output: {}'.format(A))"
   ]
  },
  {
   "cell_type": "markdown",
   "metadata": {},
   "source": [
    "### Insertion Sort:"
   ]
  },
  {
   "cell_type": "code",
   "execution_count": 208,
   "metadata": {},
   "outputs": [],
   "source": [
    "def insertion_sort(A): # ascending (runtime n^2; average n^2/4)\n",
    "    for i in range(1, len(A)): \n",
    "        # get value at i    \n",
    "        value = A[i] \n",
    "        # insert A[i] to the sorted array\n",
    "        # start to compare with the left one (i-1)\n",
    "        j = i - 1   \n",
    "        # compare with A[j] with value (exit if j < 0)\n",
    "        while value < A[j] and j >= 0: \n",
    "            # move A[j] to right by 1\n",
    "            A[j+1] = A[j] \n",
    "            j -= 1\n",
    "        # if A[j] <= value, insert after it \n",
    "        A[j+1] = value "
   ]
  },
  {
   "cell_type": "code",
   "execution_count": 209,
   "metadata": {},
   "outputs": [
    {
     "name": "stdout",
     "output_type": "stream",
     "text": [
      "input: [7, 2, 4, 10, 6, 2, 1]\n",
      "output: [1, 2, 2, 4, 6, 7, 10]\n",
      "input: [1, 1, 3, 2, 2, 1, -10]\n",
      "output: [-10, 1, 1, 1, 2, 2, 3]\n",
      "input: [1, 1, 1, 1, 1, 1, 1]\n",
      "output: [1, 1, 1, 1, 1, 1, 1]\n",
      "input: [1]\n",
      "output: [1]\n",
      "input: []\n",
      "output: []\n"
     ]
    }
   ],
   "source": [
    "# test\n",
    "inputs = [\n",
    "    [7, 2, 4, 10, 6, 2, 1],\n",
    "    [1, 1, 3, 2, 2, 1, -10],\n",
    "    [1, 1, 1, 1, 1, 1, 1],\n",
    "    [1],\n",
    "    []\n",
    "]\n",
    "\n",
    "for A in inputs:\n",
    "    print('input: {}'.format(A))\n",
    "    insertion_sort(A)\n",
    "    print('output: {}'.format(A))"
   ]
  },
  {
   "cell_type": "code",
   "execution_count": 210,
   "metadata": {},
   "outputs": [],
   "source": [
    "# decending\n",
    "def insertion_sort_desc(A):\n",
    "    for i in range(1, len(A)):\n",
    "        value = A[i]\n",
    "        j = i - 1\n",
    "        while value > A[j] and j >= 0:\n",
    "            A[j+1] = A[j]\n",
    "            j -= 1\n",
    "        A[j+1] = value"
   ]
  },
  {
   "cell_type": "code",
   "execution_count": 211,
   "metadata": {},
   "outputs": [
    {
     "name": "stdout",
     "output_type": "stream",
     "text": [
      "input: [7, 2, 4, 10, 6, 2, 1]\n",
      "output: [10, 7, 6, 4, 2, 2, 1]\n",
      "input: [1, 1, 3, 2, 2, 1, -10]\n",
      "output: [3, 2, 2, 1, 1, 1, -10]\n",
      "input: [1, 1, 1, 1, 1, 1, 1]\n",
      "output: [1, 1, 1, 1, 1, 1, 1]\n",
      "input: [1]\n",
      "output: [1]\n",
      "input: []\n",
      "output: []\n"
     ]
    }
   ],
   "source": [
    "# test\n",
    "inputs = [\n",
    "    [7, 2, 4, 10, 6, 2, 1],\n",
    "    [1, 1, 3, 2, 2, 1, -10],\n",
    "    [1, 1, 1, 1, 1, 1, 1],\n",
    "    [1],\n",
    "    []\n",
    "]\n",
    "\n",
    "for A in inputs:\n",
    "    print('input: {}'.format(A))\n",
    "    insertion_sort_desc(A)\n",
    "    print('output: {}'.format(A))"
   ]
  },
  {
   "cell_type": "markdown",
   "metadata": {},
   "source": [
    "### Merge Sort:"
   ]
  },
  {
   "cell_type": "code",
   "execution_count": 212,
   "metadata": {},
   "outputs": [],
   "source": [
    "# merge two sorted arrays [COMBINE]\n",
    "\n",
    "def merge_two_sorted_list(A, p, q, r):\n",
    "    '''\n",
    "    first sorted array: A[p:q]\n",
    "    second sorted array: A[q:r]\n",
    "    '''\n",
    "    # extract two subarrays\n",
    "    L = A[p:q]\n",
    "    R = A[q:r]\n",
    "    \n",
    "    # initiate starting points\n",
    "    L_idx = 0\n",
    "    R_idx = 0\n",
    "    \n",
    "    # add infinite to the end of each array\n",
    "    L.append(float('inf'))\n",
    "    R.append(float('inf'))\n",
    "        \n",
    "    # iterate r-p steps\n",
    "    for i in range(p, r):\n",
    "        if L[L_idx] <= R[R_idx]:\n",
    "            A[i] = L[L_idx]\n",
    "            L_idx += 1\n",
    "        else:\n",
    "            A[i] = R[R_idx]\n",
    "            R_idx += 1\n"
   ]
  },
  {
   "cell_type": "code",
   "execution_count": 213,
   "metadata": {},
   "outputs": [
    {
     "name": "stdout",
     "output_type": "stream",
     "text": [
      "input: [1, 3, 8, 2, 9, 10]\n",
      "output: [1, 2, 3, 8, 9, 10]\n",
      "input: [1, 3, 8, 9, 2, 9, 10]\n",
      "output: [1, 2, 3, 8, 9, 9, 10]\n",
      "input: [1, 3, 2, 9, 10]\n",
      "output: [1, 2, 3, 9, 10]\n",
      "input: [1, 2]\n",
      "output: [1, 2]\n",
      "input: [1]\n",
      "output: [1]\n",
      "input: []\n",
      "output: []\n"
     ]
    }
   ],
   "source": [
    "# test\n",
    "inputs = [\n",
    "    ([1, 3, 8, 2, 9, 10], 0, 3, 6),\n",
    "    ([1, 3, 8, 9, 2, 9, 10], 0, 4, 7),\n",
    "    ([1, 3, 2, 9, 10], 0, 2, 5),\n",
    "    ([1, 2], 0, 1, 2),\n",
    "    ([1], 0, 1, 1),\n",
    "    ([], 0, 0, 0),\n",
    "]\n",
    "\n",
    "for args in inputs:\n",
    "    A, p, q, r = args\n",
    "    print('input: {}'.format(A))\n",
    "    merge_two_sorted_list(A, p, q, r)\n",
    "    print('output: {}'.format(A))"
   ]
  },
  {
   "cell_type": "code",
   "execution_count": 214,
   "metadata": {},
   "outputs": [],
   "source": [
    "# use merge/combine to build merge sort (runtime: nlog(n))\n",
    "def merge_sort(A, p, r):\n",
    "    '''\n",
    "    sort A[p:r]\n",
    "    '''\n",
    "    # check if the sorting range > 1\n",
    "    if r - p > 1:\n",
    "        # find midpoint \n",
    "        q = int((p+r)/2) \n",
    "        # sort two sub arrays\n",
    "        merge_sort(A, p, q)\n",
    "        merge_sort(A, q, r)\n",
    "        merge_two_sorted_list(A, p, q, r)"
   ]
  },
  {
   "cell_type": "code",
   "execution_count": 215,
   "metadata": {},
   "outputs": [
    {
     "name": "stdout",
     "output_type": "stream",
     "text": [
      "input: [7, 2, 4, 10, 6, 2, 1]\n",
      "output: [1, 2, 2, 4, 6, 7, 10]\n",
      "input: [1, 1, 3, 2, 2, 1, -10]\n",
      "output: [-10, 1, 1, 1, 2, 2, 3]\n",
      "input: [1, 1, 1, 1, 1, 1, 1]\n",
      "output: [1, 1, 1, 1, 1, 1, 1]\n",
      "input: [1]\n",
      "output: [1]\n",
      "input: []\n",
      "output: []\n"
     ]
    }
   ],
   "source": [
    "# test\n",
    "inputs = [\n",
    "    [7, 2, 4, 10, 6, 2, 1],\n",
    "    [1, 1, 3, 2, 2, 1, -10],\n",
    "    [1, 1, 1, 1, 1, 1, 1],\n",
    "    [1],\n",
    "    []\n",
    "]\n",
    "\n",
    "for array in inputs:\n",
    "    A, p, r = (array, 0, len(array))\n",
    "    print('input: {}'.format(A))\n",
    "    merge_sort(A, p, r)\n",
    "    print('output: {}'.format(A))"
   ]
  },
  {
   "cell_type": "markdown",
   "metadata": {},
   "source": [
    "### Heap Sort:"
   ]
  },
  {
   "cell_type": "code",
   "execution_count": 216,
   "metadata": {},
   "outputs": [],
   "source": [
    "def parent(i):\n",
    "    return i//2\n",
    "\n",
    "def left(i):\n",
    "    return 2*i\n",
    "\n",
    "def right(i):\n",
    "    return 2*i+1\n",
    "\n",
    "def max_heapify(A, i): # runtime: log(n)\n",
    "    l = left(i) # left child\n",
    "    r = right(i) # right child\n",
    "    \n",
    "    if l < len(A) and A[l] > A[i]:\n",
    "        largest = l\n",
    "    else:\n",
    "        largest = i\n",
    "        \n",
    "    if r < len(A) and A[r] > A[largest]:\n",
    "        largest = r\n",
    "    # if i is not largest, swap largest with i\n",
    "    if largest != i:\n",
    "        tmp_i = A[i]\n",
    "        A[i] = A[largest]\n",
    "        A[largest] = tmp_i\n",
    "        max_heapify(A, largest)\n",
    "\n",
    "def build_max_heap(A):\n",
    "    n = len(A)\n",
    "    for i in range((n-1)//2, -1, -1):\n",
    "        max_heapify(A, i)\n",
    "        \n",
    "def heap_sort(A):\n",
    "    n = len(A)\n",
    "    build_max_heap(A)\n",
    "    A_cp = A.copy()\n",
    "    for i in range(n):\n",
    "        last_idx = -(i+1)\n",
    "        # swap root with last node\n",
    "        root = A_cp[0]\n",
    "        A_cp[0] = A_cp[-1]\n",
    "        # save the largest to A[-(i+1)]\n",
    "        A[last_idx] = root\n",
    "        # pop out last node and redo max_heapify\n",
    "        A_cp.pop(-1)\n",
    "        max_heapify(A_cp, 0) # move root the right node in the heap"
   ]
  },
  {
   "cell_type": "code",
   "execution_count": 217,
   "metadata": {},
   "outputs": [
    {
     "name": "stdout",
     "output_type": "stream",
     "text": [
      "input: [7, 2, 4, 10, 6, 2, 1]\n",
      "output: [1, 2, 2, 4, 6, 7, 10]\n",
      "input: [1, 1, 3, 2, 2, 1, -10]\n",
      "output: [-10, 1, 1, 1, 2, 2, 3]\n",
      "input: [1, 1, 1, 1, 1, 1, 1]\n",
      "output: [1, 1, 1, 1, 1, 1, 1]\n",
      "input: [1]\n",
      "output: [1]\n",
      "input: []\n",
      "output: []\n"
     ]
    }
   ],
   "source": [
    "# test\n",
    "inputs = [\n",
    "    [7, 2, 4, 10, 6, 2, 1],\n",
    "    [1, 1, 3, 2, 2, 1, -10],\n",
    "    [1, 1, 1, 1, 1, 1, 1],\n",
    "    [1],\n",
    "    []\n",
    "]\n",
    "\n",
    "for array in inputs:\n",
    "    A, p, r = (array, 0, len(array))\n",
    "    print('input: {}'.format(A))\n",
    "    heap_sort(A)\n",
    "    print('output: {}'.format(A))"
   ]
  },
  {
   "cell_type": "markdown",
   "metadata": {},
   "source": [
    "### Quick Sort:"
   ]
  },
  {
   "cell_type": "code",
   "execution_count": 27,
   "metadata": {},
   "outputs": [],
   "source": [
    "# arrange A, return q such that A[p:q] <= A[q] and A[q+1:r] >= A[q]\n",
    "def quick_sort_partition(A, p, r):\n",
    "    last = A[r-1]\n",
    "    i = p-1\n",
    "    for j in range(p, r-1):\n",
    "        # A[j] < last element, move A[j] to the left\n",
    "        if A[j] < last:\n",
    "            i = i+1\n",
    "            tmp_A_i = A[i]\n",
    "            A[i] = A[j]\n",
    "            A[j] = tmp_A_i\n",
    "    # \n",
    "    A[r-1] = A[i+1] \n",
    "    A[i+1] = last\n",
    "    return i+1\n",
    "\n",
    "def quick_sort(A, p, r):\n",
    "    # repeat until there is only one element in A[p:r]\n",
    "    if p < r-1:\n",
    "        q = quick_sort_partition(A, p, r)\n",
    "        quick_sort(A, p, q)\n",
    "        quick_sort(A, q+1, r)"
   ]
  },
  {
   "cell_type": "code",
   "execution_count": 30,
   "metadata": {},
   "outputs": [
    {
     "name": "stdout",
     "output_type": "stream",
     "text": [
      "input: [7, 2, 4, 10, 6, 2, 1]\n",
      "output: [1, 2, 2, 6, 4, 7, 10]\n",
      "input: [1, 1, 3, 2, 2, 1, -10]\n",
      "output: [-10, 1, 1, 1, 2, 2, 3]\n",
      "input: [1, 1, 1, 1, 1, 1, 1]\n",
      "output: [1, 1, 1, 1, 1, 1, 1]\n",
      "input: [1]\n",
      "output: [1]\n",
      "input: []\n",
      "output: []\n"
     ]
    }
   ],
   "source": [
    "# test\n",
    "inputs = [\n",
    "    [7, 2, 4, 10, 6, 2, 1],\n",
    "    [1, 1, 3, 2, 2, 1, -10],\n",
    "    [1, 1, 1, 1, 1, 1, 1],\n",
    "    [1],\n",
    "    []\n",
    "]\n",
    "\n",
    "for array in inputs:\n",
    "    A, p, r = (array, 0, len(array))\n",
    "    print('input: {}'.format(A))\n",
    "    quick_sort(A, p, r)\n",
    "    print('output: {}'.format(A))"
   ]
  },
  {
   "cell_type": "markdown",
   "metadata": {},
   "source": [
    "### Sorting compare:"
   ]
  },
  {
   "cell_type": "code",
   "execution_count": 218,
   "metadata": {},
   "outputs": [
    {
     "name": "stdout",
     "output_type": "stream",
     "text": [
      "111 ms ± 2.35 ms per loop (mean ± std. dev. of 7 runs, 10 loops each)\n"
     ]
    }
   ],
   "source": [
    "# bubble sort\n",
    "%timeit bubble_sort(list(np.random.randint(0, 100, 1000)))"
   ]
  },
  {
   "cell_type": "code",
   "execution_count": 219,
   "metadata": {},
   "outputs": [
    {
     "name": "stdout",
     "output_type": "stream",
     "text": [
      "57.6 ms ± 831 µs per loop (mean ± std. dev. of 7 runs, 10 loops each)\n"
     ]
    }
   ],
   "source": [
    "# insertion sort\n",
    "%timeit insertion_sort(list(np.random.randint(0, 100, 1000)))"
   ]
  },
  {
   "cell_type": "code",
   "execution_count": 220,
   "metadata": {},
   "outputs": [
    {
     "name": "stdout",
     "output_type": "stream",
     "text": [
      "9.15 ms ± 107 µs per loop (mean ± std. dev. of 7 runs, 100 loops each)\n"
     ]
    }
   ],
   "source": [
    "# merge sort\n",
    "%timeit merge_sort(list(np.random.randint(0, 100, 1000)), 0, 1000)"
   ]
  },
  {
   "cell_type": "code",
   "execution_count": 221,
   "metadata": {},
   "outputs": [
    {
     "name": "stdout",
     "output_type": "stream",
     "text": [
      "11.3 ms ± 118 µs per loop (mean ± std. dev. of 7 runs, 100 loops each)\n"
     ]
    }
   ],
   "source": [
    "# heap sort\n",
    "%timeit heap_sort(list(np.random.randint(0, 100, 1000)))"
   ]
  },
  {
   "cell_type": "code",
   "execution_count": 34,
   "metadata": {},
   "outputs": [
    {
     "name": "stdout",
     "output_type": "stream",
     "text": [
      "3.17 ms ± 165 µs per loop (mean ± std. dev. of 7 runs, 100 loops each)\n"
     ]
    }
   ],
   "source": [
    "# quick sort\n",
    "%timeit quick_sort(list(np.random.randint(0, 100, 1000)), 0, 1000)"
   ]
  },
  {
   "cell_type": "code",
   "execution_count": 222,
   "metadata": {},
   "outputs": [
    {
     "name": "stdout",
     "output_type": "stream",
     "text": [
      "366 µs ± 18.6 µs per loop (mean ± std. dev. of 7 runs, 1000 loops each)\n"
     ]
    }
   ],
   "source": [
    "# python Tim sort\n",
    "%timeit list(np.random.randint(0, 100, 1000)).sort()"
   ]
  },
  {
   "cell_type": "markdown",
   "metadata": {},
   "source": [
    "# 2. Divide-and-Conquer"
   ]
  },
  {
   "cell_type": "markdown",
   "metadata": {},
   "source": [
    "### The maximum subarray:"
   ]
  },
  {
   "cell_type": "markdown",
   "metadata": {},
   "source": [
    "Pseudocode:\n",
    "1. split the array to two subarrays (left, right)\n",
    "2. max subarray can only be in left, right, cross midpoint (divided to three)\n",
    "3. find the max for cross midpoint\n",
    "4. repeat 1-3 for left, right\n",
    "<br> * comparison will be bottom up"
   ]
  },
  {
   "cell_type": "code",
   "execution_count": 241,
   "metadata": {},
   "outputs": [],
   "source": [
    "def max_subarray_cross(A, low, mid, hight):\n",
    "    \n",
    "    '''\n",
    "    left array: A[low:mid]\n",
    "    right array: A[mid:high]\n",
    "    find the largest sum cross mid\n",
    "    '''\n",
    "    \n",
    "    # find the max sum on the left starting from m\n",
    "    left_max_sum = float('-inf')\n",
    "    left_current_sum = 0\n",
    "    # iterate backward from m-1 to a\n",
    "    for i in range(m-1, low-1, -1):\n",
    "        left_current_sum += A[i]\n",
    "        if left_current_sum > left_max_sum:\n",
    "            left_max_sum = left_current_sum\n",
    "            left_max_idx = i\n",
    "    # find the max sum on the right starting from m+1     \n",
    "    right_max_sum = float('-inf')\n",
    "    right_current_sum = 0\n",
    "    # iterate forward from m to b-1\n",
    "    for j in range(mid, high):\n",
    "        right_current_sum += A[j]\n",
    "        if right_current_sum > right_max_sum:\n",
    "            right_max_sum = right_current_sum\n",
    "            right_max_idx = j\n",
    "    \n",
    "    return left_max_idx, right_max_idx+1, left_max_sum+right_max_sum"
   ]
  },
  {
   "cell_type": "code",
   "execution_count": 242,
   "metadata": {},
   "outputs": [
    {
     "name": "stdout",
     "output_type": "stream",
     "text": [
      "[-2, 9, -2] 0 3 1\n",
      "[-2, 9]\n"
     ]
    }
   ],
   "source": [
    "# test max_subarray_cross\n",
    "A = list(np.random.randint(-10, 10, 3))\n",
    "a = 0\n",
    "b = len(A)\n",
    "m = int((a+b)/2)\n",
    "print(A, a, b, m)\n",
    "l, r, max_sum = max_subarray_cross(A, a, m, b)\n",
    "print(A[l:r])"
   ]
  },
  {
   "cell_type": "code",
   "execution_count": 254,
   "metadata": {},
   "outputs": [],
   "source": [
    "# recursion (bottom up comparison)\n",
    "def max_subarray(A, low, high):\n",
    "    # if there is only one element, return\n",
    "    if low + 1 == high:\n",
    "        return low, high, A[low]\n",
    "    else:\n",
    "        mid = int((low+high)/2)\n",
    "        left_low, left_high, left_sum = max_subarray(A, low, mid)\n",
    "        right_low, right_high, right_sum = max_subarray(A, mid, high)\n",
    "        cross_low, cross_high, cross_sum = max_subarray_cross(A, low, mid, high)\n",
    "        \n",
    "        if cross_sum >= left_sum and cross_sum >= right_sum:\n",
    "            return cross_low, cross_high, cross_sum\n",
    "        elif left_sum >= cross_sum and left_sum >= right_sum:\n",
    "            return left_low, left_high, left_sum\n",
    "        else:\n",
    "            return right_low, right_high, right_sum"
   ]
  },
  {
   "cell_type": "code",
   "execution_count": 270,
   "metadata": {},
   "outputs": [
    {
     "name": "stdout",
     "output_type": "stream",
     "text": [
      "[8, 3, -10, -8, -2, 6, 6, 7, 9, 9] 0 10\n"
     ]
    },
    {
     "data": {
      "text/plain": [
       "[6, 6, 7, 9, 9]"
      ]
     },
     "execution_count": 270,
     "metadata": {},
     "output_type": "execute_result"
    }
   ],
   "source": [
    "# test\n",
    "A = list(np.random.randint(-10, 10, 10))\n",
    "low = 0\n",
    "high = len(A)\n",
    "print(A, low, high)\n",
    "left, right, max_subarray_sum = max_subarray(A, low, high)\n",
    "A[left:right]"
   ]
  },
  {
   "cell_type": "code",
   "execution_count": null,
   "metadata": {},
   "outputs": [],
   "source": [
    "# greedy O(n)\n",
    "# DP"
   ]
  },
  {
   "cell_type": "markdown",
   "metadata": {},
   "source": [
    "### Strassen’s algorithm for matrix multiplication:"
   ]
  },
  {
   "cell_type": "markdown",
   "metadata": {},
   "source": [
    "Pseudocode:\n",
    "1. Parition $A$ to 4 sub matrices $A_{11}$, $A_{12}$, $A_{21}$, $A_{22}$  \n",
    "2. Parition $B$ to 4 sub matrices $B_{11}$, $B_{12}$, $B_{21}$, $B_{22}$  \n",
    "3. Computing $C$ by applying 1-2 recursively"
   ]
  },
  {
   "cell_type": "code",
   "execution_count": 21,
   "metadata": {},
   "outputs": [],
   "source": [
    "def matrix_multi_standard(A, B):\n",
    "    n = len(A)\n",
    "    C = []\n",
    "    for i in range(n):\n",
    "        row = []\n",
    "        for j in range(n):\n",
    "            c_ij = 0\n",
    "            for k in range(n):\n",
    "                c_ij += A[i][k]*B[k][j]\n",
    "            row.append(c_ij)\n",
    "        C.append(row)\n",
    "    return C"
   ]
  },
  {
   "cell_type": "code",
   "execution_count": 22,
   "metadata": {},
   "outputs": [
    {
     "data": {
      "text/plain": [
       "[[30, 36, 42], [66, 81, 96], [102, 126, 150]]"
      ]
     },
     "execution_count": 22,
     "metadata": {},
     "output_type": "execute_result"
    }
   ],
   "source": [
    "A = [[1, 2, 3],\n",
    "     [4, 5, 6],\n",
    "     [7, 8, 9]]\n",
    "matrix_multi_standard(A, A)"
   ]
  },
  {
   "cell_type": "code",
   "execution_count": 23,
   "metadata": {},
   "outputs": [
    {
     "data": {
      "text/plain": [
       "array([[ 30,  36,  42],\n",
       "       [ 66,  81,  96],\n",
       "       [102, 126, 150]])"
      ]
     },
     "execution_count": 23,
     "metadata": {},
     "output_type": "execute_result"
    }
   ],
   "source": [
    "np.matmul(np.array(A), np.array(A))"
   ]
  },
  {
   "cell_type": "code",
   "execution_count": 71,
   "metadata": {},
   "outputs": [],
   "source": [
    "# Strassen's O(n^2.81)\n",
    "\n",
    "def two_by_two_matmul(A, B):\n",
    "    C11 = A[0][0]*B[0][0] + A[0][1]*B[1][0]\n",
    "    C12 = A[0][0]*B[0][1] + A[0][1]*B[1][1]\n",
    "    C21 = A[1][0]*B[0][0] + A[1][1]*B[1][0]\n",
    "    C22 = A[1][0]*B[0][1] + A[1][1]*B[1][1]\n",
    "    return [[C11, C12], [C21, C22]]\n",
    "\n",
    "def matrix_subtraction(A, B):\n",
    "    n = len(A)\n",
    "    C = []\n",
    "    for i in range(n):\n",
    "        row = []\n",
    "        for j in range(n):\n",
    "            c_ij = A[i][j] - B[i][j]\n",
    "            row.append(c_ij)\n",
    "        C.append(row)\n",
    "    return C\n",
    "\n",
    "def matrix_addition(A, B):\n",
    "    n = len(A)\n",
    "    C = []\n",
    "    for i in range(n):\n",
    "        row = []\n",
    "        for j in range(n):\n",
    "            c_ij = A[i][j] + B[i][j]\n",
    "            row.append(c_ij)\n",
    "        C.append(row)\n",
    "    return C\n",
    "\n",
    "def split_matrix(A):    \n",
    "    n = len(A)\n",
    "    mid = n//2 # only support even matrix\n",
    "    \n",
    "    top_left = [[A[i][j] for j in range(mid)] for i in range(mid)]\n",
    "    top_right = [[A[i][j] for j in range(mid, n)] for i in range(mid)]\n",
    "    bottom_left = [[A[i][j] for j in range(mid)] for i in range(mid, n)]\n",
    "    bottom_right = [[A[i][j] for j in range(mid, n)] for i in range(mid, n)]\n",
    "    \n",
    "    return top_left, top_right, bottom_left, bottom_right\n",
    "\n",
    "def strassen(A, B):\n",
    "    \n",
    "    n = len(A)\n",
    "    if n == 2:\n",
    "        C = two_by_two_matmul(A, B)\n",
    "        return C\n",
    "        \n",
    "    A11, A12, A21, A22 = split_matrix(A)\n",
    "    B11, B12, B21, B22 = split_matrix(B)\n",
    "    \n",
    "    S1 = matrix_subtraction(B12, B22)\n",
    "    S2 = matrix_addition(A11, A12)\n",
    "    S3 = matrix_addition(A21, A22)\n",
    "    S4 = matrix_subtraction(B21, B11)\n",
    "    S5 = matrix_addition(A11, A22)\n",
    "    S6 = matrix_addition(B11, B22)\n",
    "    S7 = matrix_subtraction(A12, A22)\n",
    "    S8 = matrix_addition(B21, B22)\n",
    "    S9 = matrix_subtraction(A11, A21)\n",
    "    S10 = matrix_addition(B11, B12)\n",
    "    \n",
    "    P1 = strassen(A11, S1)\n",
    "    P2 = strassen(S2, B22)\n",
    "    P3 = strassen(S3, B11)\n",
    "    P4 = strassen(A22, S4)\n",
    "    P5 = strassen(S5, S6)\n",
    "    P6 = strassen(S7, S8)\n",
    "    P7 = strassen(S9, S10)\n",
    "    \n",
    "    C11 = matrix_addition(matrix_subtraction(matrix_addition(P5, P4), P2), P6)\n",
    "    C12 = matrix_addition(P1, P2)\n",
    "    C21 = matrix_addition(P3, P4)\n",
    "    C22 = matrix_subtraction(matrix_subtraction(matrix_addition(P5, P1), P3), P7)\n",
    "    \n",
    "    C = []\n",
    "    for i in range(len(C11)):\n",
    "        C.append(C11[i] + C12[i])\n",
    "    for i in range(len(C21)):\n",
    "        C.append(C21[i] + C22[i])\n",
    "    return C"
   ]
  },
  {
   "cell_type": "code",
   "execution_count": 85,
   "metadata": {},
   "outputs": [],
   "source": [
    "A = [[np.random.randint(1, 10) for _ in range(64)] for _ in range(64)]"
   ]
  },
  {
   "cell_type": "code",
   "execution_count": 97,
   "metadata": {},
   "outputs": [
    {
     "data": {
      "text/plain": [
       "array([[ True,  True,  True, ...,  True,  True,  True],\n",
       "       [ True,  True,  True, ...,  True,  True,  True],\n",
       "       [ True,  True,  True, ...,  True,  True,  True],\n",
       "       ...,\n",
       "       [ True,  True,  True, ...,  True,  True,  True],\n",
       "       [ True,  True,  True, ...,  True,  True,  True],\n",
       "       [ True,  True,  True, ...,  True,  True,  True]])"
      ]
     },
     "execution_count": 97,
     "metadata": {},
     "output_type": "execute_result"
    }
   ],
   "source": [
    "# test\n",
    "np.array(strassen(A, A)) == np.matmul(A, A)"
   ]
  },
  {
   "cell_type": "markdown",
   "metadata": {},
   "source": [
    "# 3. Data Structure"
   ]
  },
  {
   "cell_type": "markdown",
   "metadata": {},
   "source": [
    "**Stack:** the element deleted from the set is the one most recently inserted. (last in, first out)"
   ]
  },
  {
   "cell_type": "code",
   "execution_count": null,
   "metadata": {},
   "outputs": [],
   "source": []
  },
  {
   "cell_type": "markdown",
   "metadata": {},
   "source": [
    "**Queue:** the element deleted is always the one that has been in the set for the longest time. (first-in, first-out)"
   ]
  },
  {
   "cell_type": "code",
   "execution_count": null,
   "metadata": {},
   "outputs": [],
   "source": []
  },
  {
   "cell_type": "markdown",
   "metadata": {},
   "source": [
    "### Binary Tree Search"
   ]
  },
  {
   "cell_type": "code",
   "execution_count": 62,
   "metadata": {},
   "outputs": [],
   "source": [
    "# return the index of a value in the sorted list\n",
    "def get_index(A, v, q, p):\n",
    "    # find mid point\n",
    "\n",
    "    r = int((q+p)/2)\n",
    "    if A[r] == v: # check if midpoint is the target value\n",
    "        return v\n",
    "    elif p == q: # return None if couldn't find\n",
    "        return None\n",
    "    elif A[r] < v:\n",
    "        return get_index(A, v, r+1, p) # search right\n",
    "    elif A[r] > v: \n",
    "        return get_index(A, v, q, r) # search left"
   ]
  },
  {
   "cell_type": "code",
   "execution_count": null,
   "metadata": {},
   "outputs": [],
   "source": []
  },
  {
   "cell_type": "markdown",
   "metadata": {},
   "source": [
    "# Depth First Search"
   ]
  },
  {
   "cell_type": "markdown",
   "metadata": {},
   "source": [
    "### Number of Islands"
   ]
  },
  {
   "cell_type": "code",
   "execution_count": 76,
   "metadata": {},
   "outputs": [],
   "source": [
    "def DFS(A, i, j, n, m):\n",
    "    if i >= 0 and j >= 0 and i < n and j < m:\n",
    "        if A[i][j] == \"1\":\n",
    "            A[i][j] = \"0\"            \n",
    "            DFS(A, i, j-1, n, m) # left\n",
    "            DFS(A, i-1, j, n, m) # top\n",
    "            DFS(A, i+1, j, n, m) # down\n",
    "            DFS(A, i, j+1, n, m) # right\n",
    "\n",
    "def num_of_island_dfs(grid):\n",
    "    \"\"\"\n",
    "    :type grid: List[List[str]]\n",
    "    :rtype: int\n",
    "    \"\"\"\n",
    "\n",
    "    n = len(grid) \n",
    "    if n > 0:\n",
    "        m = len(grid[0])\n",
    "\n",
    "    n_island = 0\n",
    "\n",
    "    for i in range(n):\n",
    "        for j in range(m):\n",
    "            node = grid[i][j]\n",
    "            if node == \"1\":\n",
    "                # trigger\n",
    "                DFS(grid, i, j, n, m)\n",
    "                n_island += 1\n",
    "\n",
    "    return n_island"
   ]
  },
  {
   "cell_type": "code",
   "execution_count": 77,
   "metadata": {},
   "outputs": [
    {
     "data": {
      "text/plain": [
       "4"
      ]
     },
     "execution_count": 77,
     "metadata": {},
     "output_type": "execute_result"
    }
   ],
   "source": [
    "num_of_island_dfs([[\"0\",\"1\",\"0\"],[\"1\",\"0\",\"1\"],[\"0\",\"1\",\"0\"]])"
   ]
  },
  {
   "cell_type": "markdown",
   "metadata": {},
   "source": [
    "# Breath First Search"
   ]
  },
  {
   "cell_type": "markdown",
   "metadata": {},
   "source": [
    "### Number of Islands"
   ]
  },
  {
   "cell_type": "code",
   "execution_count": 79,
   "metadata": {},
   "outputs": [],
   "source": [
    "def check_node(A, i, j, n, m):\n",
    "    if i >= 0 and j >= 0 and i < n and j < m:\n",
    "        if A[i][j] == \"1\":\n",
    "            A[i][j] = 0\n",
    "            return True\n",
    "\n",
    "def num_of_island_bfs(grid):\n",
    "    \"\"\"\n",
    "    :type grid: List[List[str]]\n",
    "    :rtype: int\n",
    "    \"\"\"\n",
    "\n",
    "    n = len(grid) \n",
    "    if n > 0:\n",
    "        m = len(grid[0])\n",
    "\n",
    "    n_island = 0\n",
    "\n",
    "    for i in range(n):\n",
    "        for j in range(m):\n",
    "            node = grid[i][j]\n",
    "            if node == \"1\":\n",
    "                grid[i][j] = \"0\"\n",
    "                # trigger BFS\n",
    "                Q = [(i, j)] # queue of nodes to check for children\n",
    "                k = 0\n",
    "                while k < len(Q):\n",
    "                    a, b = Q[k]\n",
    "                    # check four direction\n",
    "                    # if node == 1, then mark visited and append node to Q\n",
    "                    if check_node(grid, a-1, b, n, m):\n",
    "                        Q.append((a-1, b))\n",
    "                    if check_node(grid, a, b-1, n, m):\n",
    "                        Q.append((a, b-1))\n",
    "                    if check_node(grid, a+1, b, n, m):\n",
    "                        Q.append((a+1, b))\n",
    "                    if check_node(grid, a, b+1, n, m):\n",
    "                        Q.append((a, b+1))\n",
    "                    k += 1\n",
    "\n",
    "                n_island += 1\n",
    "\n",
    "    return n_island"
   ]
  },
  {
   "cell_type": "code",
   "execution_count": 80,
   "metadata": {},
   "outputs": [
    {
     "data": {
      "text/plain": [
       "4"
      ]
     },
     "execution_count": 80,
     "metadata": {},
     "output_type": "execute_result"
    }
   ],
   "source": [
    "num_of_island_bfs([[\"0\",\"1\",\"0\"],[\"1\",\"0\",\"1\"],[\"0\",\"1\",\"0\"]])"
   ]
  },
  {
   "cell_type": "code",
   "execution_count": 123,
   "metadata": {},
   "outputs": [],
   "source": [
    "s = set()"
   ]
  },
  {
   "cell_type": "code",
   "execution_count": 124,
   "metadata": {},
   "outputs": [],
   "source": [
    "s.add(\"a\")"
   ]
  },
  {
   "cell_type": "code",
   "execution_count": 125,
   "metadata": {},
   "outputs": [
    {
     "data": {
      "text/plain": [
       "True"
      ]
     },
     "execution_count": 125,
     "metadata": {},
     "output_type": "execute_result"
    }
   ],
   "source": [
    "\"a\" in s"
   ]
  },
  {
   "cell_type": "code",
   "execution_count": null,
   "metadata": {},
   "outputs": [],
   "source": []
  }
 ],
 "metadata": {
  "kernelspec": {
   "display_name": "Python 3",
   "language": "python",
   "name": "python3"
  },
  "language_info": {
   "codemirror_mode": {
    "name": "ipython",
    "version": 3
   },
   "file_extension": ".py",
   "mimetype": "text/x-python",
   "name": "python",
   "nbconvert_exporter": "python",
   "pygments_lexer": "ipython3",
   "version": "3.6.5"
  }
 },
 "nbformat": 4,
 "nbformat_minor": 2
}
