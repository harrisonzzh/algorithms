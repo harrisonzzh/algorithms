{
 "cells": [
  {
   "cell_type": "markdown",
   "metadata": {},
   "source": [
    "# Concepts"
   ]
  },
  {
   "cell_type": "markdown",
   "metadata": {},
   "source": [
    "#### loop invariant\n",
    "1. Initialization: It is true prior to the first iteration of the loop.\n",
    "2. Maintenance: If it is true before an iteration of the loop, it remains true before the\n",
    "next iteration.\n",
    "3. Termination: When the loop terminates, the invariant gives us a useful property that helps show that the algorithm is correct."
   ]
  },
  {
   "cell_type": "markdown",
   "metadata": {},
   "source": [
    "#### Divide-and-conquer\n",
    "1. Divide: the problem into a number of subproblems that are smaller instances of the same problem.\n",
    "2. Conquer: the subproblems by solving them recursively. If the subproblem sizes are small enough, however, just solve the subproblems in a straightforward manner.\n",
    "3. Combine: the solutions to the subproblems into the solution for the original problem.\n",
    "\n",
    "*how to compute running time*:\n",
    "1. Divide: constant time $O(1)$\n",
    "2. Conquer: $T(n) = a*T(n/b)$  $a$ is number of sub problems and $n/b$ is the subproblem input size\n",
    "3. Combine: $O(n)$"
   ]
  },
  {
   "cell_type": "markdown",
   "metadata": {},
   "source": [
    "#### Stirling’s approximation\n",
    "$n! = \\sqrt{2\\pi n} (\\frac{n}{e})^n (1 + O({\\frac{1}{n}}))$"
   ]
  },
  {
   "cell_type": "markdown",
   "metadata": {},
   "source": [
    "#### Fibonacci numbers\n",
    "* $F_0 = 0$\n",
    "* $F_1 = 1$\n",
    "* $F_i = F_{i-1} + F_{i-2}$"
   ]
  },
  {
   "cell_type": "code",
   "execution_count": 95,
   "metadata": {},
   "outputs": [],
   "source": [
    "# import packages for testing\n",
    "import numpy as np"
   ]
  },
  {
   "cell_type": "markdown",
   "metadata": {},
   "source": [
    "# 1. Sorting"
   ]
  },
  {
   "cell_type": "markdown",
   "metadata": {},
   "source": [
    "### Bubble Sort:"
   ]
  },
  {
   "cell_type": "code",
   "execution_count": 134,
   "metadata": {},
   "outputs": [],
   "source": [
    "def bubble_sort(A):\n",
    "    n = len(A)\n",
    "    for i in range(n):\n",
    "        for j in range(n-1, i-1, -1):\n",
    "            # move the smallest in [i, n] to i\n",
    "            current_item = A[j]\n",
    "            left_item = A[j-1]\n",
    "            # if A[j] < A[j-1], switch\n",
    "            if current_item < left_item:\n",
    "                A[j-1] = current_item\n",
    "                A[j] = left_item"
   ]
  },
  {
   "cell_type": "code",
   "execution_count": 135,
   "metadata": {},
   "outputs": [
    {
     "name": "stdout",
     "output_type": "stream",
     "text": [
      "input: [7, 2, 4, 10, 6, 2, 1]\n",
      "output: [1, 2, 2, 4, 6, 7, 10]\n",
      "input: [1, 1, 3, 2, 2, 1, -10]\n",
      "output: [-10, 1, 1, 1, 2, 2, 3]\n",
      "input: [1, 1, 1, 1, 1, 1, 1]\n",
      "output: [1, 1, 1, 1, 1, 1, 1]\n",
      "input: [1]\n",
      "output: [1]\n",
      "input: []\n",
      "output: []\n"
     ]
    }
   ],
   "source": [
    "# test\n",
    "inputs = [\n",
    "    [7, 2, 4, 10, 6, 2, 1],\n",
    "    [1, 1, 3, 2, 2, 1, -10],\n",
    "    [1, 1, 1, 1, 1, 1, 1],\n",
    "    [1],\n",
    "    []\n",
    "]\n",
    "\n",
    "for A in inputs:\n",
    "    print('input: {}'.format(A))\n",
    "    bubble_sort(A)\n",
    "    print('output: {}'.format(A))"
   ]
  },
  {
   "cell_type": "markdown",
   "metadata": {},
   "source": [
    "### Insertion Sort:"
   ]
  },
  {
   "cell_type": "code",
   "execution_count": 7,
   "metadata": {},
   "outputs": [],
   "source": [
    "def insertion_sort(A): # ascending (runtime n^2; average n^2/4)\n",
    "    for i in range(1, len(A)): \n",
    "        # get value at i    \n",
    "        value = A[i] \n",
    "        # insert A[i] to the sorted array\n",
    "        # start to compare with the left one (i-1)\n",
    "        j = i - 1   \n",
    "        # compare with A[j] with value (exit if j < 0)\n",
    "        while value < A[j] and j >= 0: \n",
    "            # move A[j] to right by 1\n",
    "            A[j+1] = A[j] \n",
    "            j -= 1\n",
    "        # if A[j] <= value, insert after it \n",
    "        A[j+1] = value "
   ]
  },
  {
   "cell_type": "code",
   "execution_count": 127,
   "metadata": {},
   "outputs": [
    {
     "name": "stdout",
     "output_type": "stream",
     "text": [
      "input: [7, 2, 4, 10, 6, 2, 1]\n",
      "output: [1, 2, 2, 4, 6, 7, 10]\n",
      "input: [1, 1, 3, 2, 2, 1, -10]\n",
      "output: [-10, 1, 1, 1, 2, 2, 3]\n",
      "input: [1, 1, 1, 1, 1, 1, 1]\n",
      "output: [1, 1, 1, 1, 1, 1, 1]\n",
      "input: [1]\n",
      "output: [1]\n",
      "input: []\n",
      "output: []\n"
     ]
    }
   ],
   "source": [
    "# test\n",
    "inputs = [\n",
    "    [7, 2, 4, 10, 6, 2, 1],\n",
    "    [1, 1, 3, 2, 2, 1, -10],\n",
    "    [1, 1, 1, 1, 1, 1, 1],\n",
    "    [1],\n",
    "    []\n",
    "]\n",
    "\n",
    "for A in inputs:\n",
    "    print('input: {}'.format(A))\n",
    "    insertion_sort(A)\n",
    "    print('output: {}'.format(A))"
   ]
  },
  {
   "cell_type": "code",
   "execution_count": 10,
   "metadata": {},
   "outputs": [],
   "source": [
    "# decending\n",
    "def insertion_sort_desc(A):\n",
    "    for i in range(1, len(A)):\n",
    "        value = A[i]\n",
    "        j = i - 1\n",
    "        while value > A[j] and j >= 0:\n",
    "            A[j+1] = A[j]\n",
    "            j -= 1\n",
    "        A[j+1] = value"
   ]
  },
  {
   "cell_type": "code",
   "execution_count": 128,
   "metadata": {},
   "outputs": [
    {
     "name": "stdout",
     "output_type": "stream",
     "text": [
      "input: [7, 2, 4, 10, 6, 2, 1]\n",
      "output: [10, 7, 6, 4, 2, 2, 1]\n",
      "input: [1, 1, 3, 2, 2, 1, -10]\n",
      "output: [3, 2, 2, 1, 1, 1, -10]\n",
      "input: [1, 1, 1, 1, 1, 1, 1]\n",
      "output: [1, 1, 1, 1, 1, 1, 1]\n",
      "input: [1]\n",
      "output: [1]\n",
      "input: []\n",
      "output: []\n"
     ]
    }
   ],
   "source": [
    "# test\n",
    "inputs = [\n",
    "    [7, 2, 4, 10, 6, 2, 1],\n",
    "    [1, 1, 3, 2, 2, 1, -10],\n",
    "    [1, 1, 1, 1, 1, 1, 1],\n",
    "    [1],\n",
    "    []\n",
    "]\n",
    "\n",
    "for A in inputs:\n",
    "    print('input: {}'.format(A))\n",
    "    insertion_sort_desc(A)\n",
    "    print('output: {}'.format(A))"
   ]
  },
  {
   "cell_type": "markdown",
   "metadata": {},
   "source": [
    "### Merge Sort:"
   ]
  },
  {
   "cell_type": "code",
   "execution_count": 70,
   "metadata": {},
   "outputs": [],
   "source": [
    "# merge two sorted arrays [COMBINE]\n",
    "\n",
    "def merge_two_sorted_list(A, p, q, r):\n",
    "    '''\n",
    "    first sorted array: A[p:q]\n",
    "    second sorted array: A[q:r]\n",
    "    '''\n",
    "    # extract two subarrays\n",
    "    L = A[p:q]\n",
    "    R = A[q:r]\n",
    "    \n",
    "    # initiate starting points\n",
    "    L_idx = 0\n",
    "    R_idx = 0\n",
    "    \n",
    "    # add infinite to the end of each array\n",
    "    L.append(float('inf'))\n",
    "    R.append(float('inf'))\n",
    "        \n",
    "    # iterate r-p steps\n",
    "    for i in range(p, r):\n",
    "        if L[L_idx] <= R[R_idx]:\n",
    "            A[i] = L[L_idx]\n",
    "            L_idx += 1\n",
    "        else:\n",
    "            A[i] = R[R_idx]\n",
    "            R_idx += 1\n"
   ]
  },
  {
   "cell_type": "code",
   "execution_count": 71,
   "metadata": {},
   "outputs": [
    {
     "name": "stdout",
     "output_type": "stream",
     "text": [
      "input: [1, 3, 8, 2, 9, 10]\n",
      "output: [1, 2, 3, 8, 9, 10]\n",
      "input: [1, 3, 8, 9, 2, 9, 10]\n",
      "output: [1, 2, 3, 8, 9, 9, 10]\n",
      "input: [1, 3, 2, 9, 10]\n",
      "output: [1, 2, 3, 9, 10]\n",
      "input: [1, 2]\n",
      "output: [1, 2]\n",
      "input: [1]\n",
      "output: [1]\n",
      "input: []\n",
      "output: []\n"
     ]
    }
   ],
   "source": [
    "# test\n",
    "inputs = [\n",
    "    ([1, 3, 8, 2, 9, 10], 0, 3, 6),\n",
    "    ([1, 3, 8, 9, 2, 9, 10], 0, 4, 7),\n",
    "    ([1, 3, 2, 9, 10], 0, 2, 5),\n",
    "    ([1, 2], 0, 1, 2),\n",
    "    ([1], 0, 1, 1),\n",
    "    ([], 0, 0, 0),\n",
    "]\n",
    "\n",
    "for args in inputs:\n",
    "    A, p, q, r = args\n",
    "    print('input: {}'.format(A))\n",
    "    merge_two_sorted_list(A, p, q, r)\n",
    "    print('output: {}'.format(A))"
   ]
  },
  {
   "cell_type": "code",
   "execution_count": 74,
   "metadata": {},
   "outputs": [],
   "source": [
    "# use merge/combine to build merge sort (runtime: nlog(n))\n",
    "def merge_sort(A, p, r):\n",
    "    '''\n",
    "    sort A[p:r]\n",
    "    '''\n",
    "    # check if the sorting range > 1\n",
    "    if r - p > 1:\n",
    "        # find midpoint \n",
    "        q = int((p+r)/2) \n",
    "        # sort two sub arrays\n",
    "        merge_sort(A, p, q)\n",
    "        merge_sort(A, q, r)\n",
    "        merge_two_sorted_list(A, p, q, r)"
   ]
  },
  {
   "cell_type": "code",
   "execution_count": 75,
   "metadata": {},
   "outputs": [
    {
     "name": "stdout",
     "output_type": "stream",
     "text": [
      "input: [7, 2, 4, 10, 6, 2, 1]\n",
      "output: [1, 2, 2, 4, 6, 7, 10]\n",
      "input: [1, 1, 3, 2, 2, 1, -10]\n",
      "output: [-10, 1, 1, 1, 2, 2, 3]\n",
      "input: [1, 1, 1, 1, 1, 1, 1]\n",
      "output: [1, 1, 1, 1, 1, 1, 1]\n",
      "input: [1]\n",
      "output: [1]\n",
      "input: []\n",
      "output: []\n"
     ]
    }
   ],
   "source": [
    "# test\n",
    "inputs = [\n",
    "    [7, 2, 4, 10, 6, 2, 1],\n",
    "    [1, 1, 3, 2, 2, 1, -10],\n",
    "    [1, 1, 1, 1, 1, 1, 1],\n",
    "    [1],\n",
    "    []\n",
    "]\n",
    "\n",
    "for array in inputs:\n",
    "    A, p, r = (array, 0, len(array))\n",
    "    print('input: {}'.format(A))\n",
    "    merge_sort(A, p, r)\n",
    "    print('output: {}'.format(A))"
   ]
  },
  {
   "cell_type": "markdown",
   "metadata": {},
   "source": [
    "### Sorting compare:"
   ]
  },
  {
   "cell_type": "code",
   "execution_count": 136,
   "metadata": {},
   "outputs": [
    {
     "name": "stdout",
     "output_type": "stream",
     "text": [
      "106 ms ± 1.37 ms per loop (mean ± std. dev. of 7 runs, 10 loops each)\n"
     ]
    }
   ],
   "source": [
    "# bubble sort\n",
    "%timeit bubble_sort(list(np.random.randint(0, 100, 1000)))"
   ]
  },
  {
   "cell_type": "code",
   "execution_count": 137,
   "metadata": {},
   "outputs": [
    {
     "name": "stdout",
     "output_type": "stream",
     "text": [
      "54.6 ms ± 562 µs per loop (mean ± std. dev. of 7 runs, 10 loops each)\n"
     ]
    }
   ],
   "source": [
    "# insertion sort\n",
    "%timeit insertion_sort(list(np.random.randint(0, 100, 1000)))"
   ]
  },
  {
   "cell_type": "code",
   "execution_count": 138,
   "metadata": {},
   "outputs": [
    {
     "name": "stdout",
     "output_type": "stream",
     "text": [
      "8.87 ms ± 71.6 µs per loop (mean ± std. dev. of 7 runs, 100 loops each)\n"
     ]
    }
   ],
   "source": [
    "# merge sort\n",
    "%timeit merge_sort(list(np.random.randint(0, 100, 1000)), 0, 1000)"
   ]
  },
  {
   "cell_type": "code",
   "execution_count": 139,
   "metadata": {},
   "outputs": [
    {
     "name": "stdout",
     "output_type": "stream",
     "text": [
      "346 µs ± 4.48 µs per loop (mean ± std. dev. of 7 runs, 1000 loops each)\n"
     ]
    }
   ],
   "source": [
    "# python Tim sort\n",
    "%timeit list(np.random.randint(0, 100, 1000)).sort()"
   ]
  },
  {
   "cell_type": "markdown",
   "metadata": {},
   "source": [
    "# 2. Divide-and-Conquer"
   ]
  },
  {
   "cell_type": "markdown",
   "metadata": {},
   "source": [
    "### The maximum subarray:"
   ]
  },
  {
   "cell_type": "markdown",
   "metadata": {},
   "source": [
    "Pseudocode:\n",
    "1. split the array to two subarrays (left, right)\n",
    "2. max subarray can only be in left, right, cross midpoint (divided to three)\n",
    "3. find the max for cross midpoint\n",
    "4. repeat 1-3 for left, right\n",
    "<br> * comparison will be bottom up"
   ]
  },
  {
   "cell_type": "code",
   "execution_count": 241,
   "metadata": {},
   "outputs": [],
   "source": [
    "def max_subarray_cross(A, low, mid, hight):\n",
    "    \n",
    "    '''\n",
    "    left array: A[low:mid]\n",
    "    right array: A[mid:high]\n",
    "    find the largest sum cross mid\n",
    "    '''\n",
    "    \n",
    "    # find the max sum on the left starting from m\n",
    "    left_max_sum = float('-inf')\n",
    "    left_current_sum = 0\n",
    "    # iterate backward from m-1 to a\n",
    "    for i in range(m-1, low-1, -1):\n",
    "        left_current_sum += A[i]\n",
    "        if left_current_sum > left_max_sum:\n",
    "            left_max_sum = left_current_sum\n",
    "            left_max_idx = i\n",
    "    # find the max sum on the right starting from m+1     \n",
    "    right_max_sum = float('-inf')\n",
    "    right_current_sum = 0\n",
    "    # iterate forward from m to b-1\n",
    "    for j in range(mid, high):\n",
    "        right_current_sum += A[j]\n",
    "        if right_current_sum > right_max_sum:\n",
    "            right_max_sum = right_current_sum\n",
    "            right_max_idx = j\n",
    "    \n",
    "    return left_max_idx, right_max_idx+1, left_max_sum+right_max_sum"
   ]
  },
  {
   "cell_type": "code",
   "execution_count": 242,
   "metadata": {},
   "outputs": [
    {
     "name": "stdout",
     "output_type": "stream",
     "text": [
      "[-2, 9, -2] 0 3 1\n",
      "[-2, 9]\n"
     ]
    }
   ],
   "source": [
    "# test max_subarray_cross\n",
    "A = list(np.random.randint(-10, 10, 3))\n",
    "a = 0\n",
    "b = len(A)\n",
    "m = int((a+b)/2)\n",
    "print(A, a, b, m)\n",
    "l, r, max_sum = max_subarray_cross(A, a, m, b)\n",
    "print(A[l:r])"
   ]
  },
  {
   "cell_type": "code",
   "execution_count": 254,
   "metadata": {},
   "outputs": [],
   "source": [
    "# recursion (bottom up comparison)\n",
    "def max_subarray(A, low, high):\n",
    "    # if there is only one element, return\n",
    "    if low + 1 == high:\n",
    "        return low, high, A[low]\n",
    "    else:\n",
    "        mid = int((low+high)/2)\n",
    "        left_low, left_high, left_sum = max_subarray(A, low, mid)\n",
    "        right_low, right_high, right_sum = max_subarray(A, mid, high)\n",
    "        cross_low, cross_high, cross_sum = max_subarray_cross(A, low, mid, high)\n",
    "        \n",
    "        if cross_sum >= left_sum and cross_sum >= right_sum:\n",
    "            return cross_low, cross_high, cross_sum\n",
    "        elif left_sum >= cross_sum and left_sum >= right_sum:\n",
    "            return left_low, left_high, left_sum\n",
    "        else:\n",
    "            return right_low, right_high, right_sum"
   ]
  },
  {
   "cell_type": "code",
   "execution_count": 270,
   "metadata": {},
   "outputs": [
    {
     "name": "stdout",
     "output_type": "stream",
     "text": [
      "[8, 3, -10, -8, -2, 6, 6, 7, 9, 9] 0 10\n"
     ]
    },
    {
     "data": {
      "text/plain": [
       "[6, 6, 7, 9, 9]"
      ]
     },
     "execution_count": 270,
     "metadata": {},
     "output_type": "execute_result"
    }
   ],
   "source": [
    "# test\n",
    "A = list(np.random.randint(-10, 10, 10))\n",
    "low = 0\n",
    "high = len(A)\n",
    "print(A, low, high)\n",
    "left, right, max_subarray_sum = max_subarray(A, low, high)\n",
    "A[left:right]"
   ]
  },
  {
   "cell_type": "markdown",
   "metadata": {},
   "source": [
    "### Strassen’s algorithm for matrix multiplication:"
   ]
  },
  {
   "cell_type": "code",
   "execution_count": null,
   "metadata": {},
   "outputs": [],
   "source": []
  }
 ],
 "metadata": {
  "kernelspec": {
   "display_name": "Python 3",
   "language": "python",
   "name": "python3"
  },
  "language_info": {
   "codemirror_mode": {
    "name": "ipython",
    "version": 3
   },
   "file_extension": ".py",
   "mimetype": "text/x-python",
   "name": "python",
   "nbconvert_exporter": "python",
   "pygments_lexer": "ipython3",
   "version": "3.6.5"
  }
 },
 "nbformat": 4,
 "nbformat_minor": 2
}
